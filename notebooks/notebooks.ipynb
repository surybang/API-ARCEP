{
 "cells": [
  {
   "cell_type": "code",
   "execution_count": 2,
   "metadata": {},
   "outputs": [],
   "source": [
    "import pandas as pd\n",
    "df = pd.read_csv('MAJNUM_utf8.csv', sep=\";\")\n",
    "df2 = pd.read_csv('MAJR1R2_utf8.csv', sep=\";\")\n"
   ]
  },
  {
   "cell_type": "code",
   "execution_count": 3,
   "metadata": {},
   "outputs": [
    {
     "data": {
      "text/html": [
       "<div>\n",
       "<style scoped>\n",
       "    .dataframe tbody tr th:only-of-type {\n",
       "        vertical-align: middle;\n",
       "    }\n",
       "\n",
       "    .dataframe tbody tr th {\n",
       "        vertical-align: top;\n",
       "    }\n",
       "\n",
       "    .dataframe thead th {\n",
       "        text-align: right;\n",
       "    }\n",
       "</style>\n",
       "<table border=\"1\" class=\"dataframe\">\n",
       "  <thead>\n",
       "    <tr style=\"text-align: right;\">\n",
       "      <th></th>\n",
       "      <th>EZABPQM</th>\n",
       "      <th>Tranche_Debut</th>\n",
       "      <th>Tranche_Fin</th>\n",
       "      <th>Mnémo</th>\n",
       "      <th>Territoire</th>\n",
       "      <th>Date_Attribution</th>\n",
       "    </tr>\n",
       "  </thead>\n",
       "  <tbody>\n",
       "    <tr>\n",
       "      <th>0</th>\n",
       "      <td>105</td>\n",
       "      <td>105000000</td>\n",
       "      <td>105999999</td>\n",
       "      <td>FRTE</td>\n",
       "      <td>Métropole</td>\n",
       "      <td>01/01/2017</td>\n",
       "    </tr>\n",
       "    <tr>\n",
       "      <th>1</th>\n",
       "      <td>1241</td>\n",
       "      <td>124100000</td>\n",
       "      <td>124199999</td>\n",
       "      <td>FRTE</td>\n",
       "      <td>Métropole</td>\n",
       "      <td>01/01/2017</td>\n",
       "    </tr>\n",
       "    <tr>\n",
       "      <th>2</th>\n",
       "      <td>1242</td>\n",
       "      <td>124200000</td>\n",
       "      <td>124299999</td>\n",
       "      <td>FRTE</td>\n",
       "      <td>Métropole</td>\n",
       "      <td>01/01/2017</td>\n",
       "    </tr>\n",
       "    <tr>\n",
       "      <th>3</th>\n",
       "      <td>130</td>\n",
       "      <td>130000000</td>\n",
       "      <td>130999999</td>\n",
       "      <td>FRTE</td>\n",
       "      <td>Métropole</td>\n",
       "      <td>01/01/2017</td>\n",
       "    </tr>\n",
       "    <tr>\n",
       "      <th>4</th>\n",
       "      <td>134</td>\n",
       "      <td>134000000</td>\n",
       "      <td>134999999</td>\n",
       "      <td>FRTE</td>\n",
       "      <td>Métropole</td>\n",
       "      <td>01/01/2017</td>\n",
       "    </tr>\n",
       "  </tbody>\n",
       "</table>\n",
       "</div>"
      ],
      "text/plain": [
       "   EZABPQM  Tranche_Debut  Tranche_Fin Mnémo Territoire Date_Attribution\n",
       "0      105      105000000    105999999  FRTE  Métropole       01/01/2017\n",
       "1     1241      124100000    124199999  FRTE  Métropole       01/01/2017\n",
       "2     1242      124200000    124299999  FRTE  Métropole       01/01/2017\n",
       "3      130      130000000    130999999  FRTE  Métropole       01/01/2017\n",
       "4      134      134000000    134999999  FRTE  Métropole       01/01/2017"
      ]
     },
     "execution_count": 3,
     "metadata": {},
     "output_type": "execute_result"
    }
   ],
   "source": [
    "df.head()"
   ]
  },
  {
   "cell_type": "code",
   "execution_count": 8,
   "metadata": {},
   "outputs": [
    {
     "data": {
      "text/html": [
       "<div>\n",
       "<style scoped>\n",
       "    .dataframe tbody tr th:only-of-type {\n",
       "        vertical-align: middle;\n",
       "    }\n",
       "\n",
       "    .dataframe tbody tr th {\n",
       "        vertical-align: top;\n",
       "    }\n",
       "\n",
       "    .dataframe thead th {\n",
       "        text-align: right;\n",
       "    }\n",
       "</style>\n",
       "<table border=\"1\" class=\"dataframe\">\n",
       "  <thead>\n",
       "    <tr style=\"text-align: right;\">\n",
       "      <th></th>\n",
       "      <th>EZABPQM</th>\n",
       "      <th>Code Attributaire</th>\n",
       "      <th>Attributaire</th>\n",
       "    </tr>\n",
       "  </thead>\n",
       "  <tbody>\n",
       "    <tr>\n",
       "      <th>15806</th>\n",
       "      <td>06298</td>\n",
       "      <td>SFR0</td>\n",
       "      <td>Société française du radiotéléphone</td>\n",
       "    </tr>\n",
       "    <tr>\n",
       "      <th>16850</th>\n",
       "      <td>06298</td>\n",
       "      <td>SFR0</td>\n",
       "      <td>Société française du radiotéléphone</td>\n",
       "    </tr>\n",
       "  </tbody>\n",
       "</table>\n",
       "</div>"
      ],
      "text/plain": [
       "      EZABPQM Code Attributaire                         Attributaire\n",
       "15806   06298              SFR0  Société française du radiotéléphone\n",
       "16850   06298              SFR0  Société française du radiotéléphone"
      ]
     },
     "execution_count": 8,
     "metadata": {},
     "output_type": "execute_result"
    }
   ],
   "source": [
    "df3 = pd.read_csv('merged_df.csv', dtype={\"EZABPQM\":str})\n",
    "df3.head()\n",
    "\n",
    "df3[df3['EZABPQM'] == '06298']"
   ]
  }
 ],
 "metadata": {
  "kernelspec": {
   "display_name": "venv",
   "language": "python",
   "name": "python3"
  },
  "language_info": {
   "codemirror_mode": {
    "name": "ipython",
    "version": 3
   },
   "file_extension": ".py",
   "mimetype": "text/x-python",
   "name": "python",
   "nbconvert_exporter": "python",
   "pygments_lexer": "ipython3",
   "version": "3.10.12"
  }
 },
 "nbformat": 4,
 "nbformat_minor": 2
}
